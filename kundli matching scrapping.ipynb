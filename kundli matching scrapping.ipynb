{
 "cells": [
  {
   "cell_type": "code",
   "execution_count": 7,
   "metadata": {},
   "outputs": [],
   "source": [
    "from selenium import webdriver\n",
    "driver = webdriver.Chrome(executable_path = r\"C:\\Users\\LastWorld\\Downloads\\chromedriver.exe\")\n",
    "url ='https://vedicrishi.in/panchang/'\n",
    "driver.get(url)"
   ]
  },
  {
   "cell_type": "code",
   "execution_count": 12,
   "metadata": {},
   "outputs": [],
   "source": [
    "row_count =len(driver.find_elements_by_xpath(\"//*[@id='panchangElement']/table/tbody/tr\"))\n",
    "col_count = len(driver.find_elements_by_xpath(\"//*[@id='panchangElement']/table/tbody/tr[1]/td\"))"
   ]
  },
  {
   "cell_type": "code",
   "execution_count": 18,
   "metadata": {},
   "outputs": [
    {
     "name": "stdout",
     "output_type": "stream",
     "text": [
      "Panchang Elements\n",
      "Tithi  Krishna Ashtami upto 15:15:35\n",
      "Next : Krishna Navami  \n",
      "\n",
      "Nakshatra  Anuradha upto 28:55:3\n",
      "Next : Jyeshtha  \n",
      "\n",
      "Yog  Dhruv upto 11:48:0\n",
      "Next : Vyaghat  \n",
      "\n",
      "Karan  Kaulav upto 15:18:35\n",
      "Next : --  \n",
      "\n"
     ]
    }
   ],
   "source": [
    "heading = driver.find_element_by_xpath(\"//*[@id='panchangElement']/h3\").text\n",
    "print(heading)\n",
    "\n",
    "for r in range(1,row_count+1):\n",
    "    for c in range(1,col_count+1):\n",
    "        \n",
    "        value = driver.find_element_by_xpath(\"//*[@id='panchangElement']/table/tbody/tr[\"+str(r)+\"]/td[\"+str(c)+\"]\").text\n",
    "        print(value, end =\"  \")\n",
    "    print('\\n')    "
   ]
  },
  {
   "cell_type": "code",
   "execution_count": 19,
   "metadata": {},
   "outputs": [
    {
     "name": "stdout",
     "output_type": "stream",
     "text": [
      "Hindu Month & Year\n"
     ]
    }
   ],
   "source": [
    "heading = driver.find_element_by_xpath(\"//*[@id='hinduMonth']/h3\").text\n",
    "print(heading)"
   ]
  },
  {
   "cell_type": "code",
   "execution_count": 39,
   "metadata": {},
   "outputs": [
    {
     "name": "stdout",
     "output_type": "stream",
     "text": [
      "Hindu Month & Year\n",
      "Vikram Samvat\n",
      "2076-Paridhavi\n",
      "Shaka Samvat\n",
      "1941-Vikari\n",
      "\n",
      "\n",
      "Paksha\n",
      "Krishna-Paksha\n",
      "Ayana\n",
      "Uttarayana\n",
      "\n",
      "\n",
      "Purnimanta\n",
      "Phalguna\n",
      "Amanta\n",
      "Magha\n",
      "\n",
      "\n",
      "Sun Sign\n",
      "Aquarius\n",
      "Moon sign\n",
      "Scorpio\n",
      "\n",
      "\n"
     ]
    }
   ],
   "source": [
    "\n",
    "heading = driver.find_element_by_xpath(\"//*[@id='hinduMonth']/h3\").text\n",
    "print(heading)\n",
    "for r in range(1,5):\n",
    "    for c in range(1,3):\n",
    "        \n",
    "        value = driver.find_element_by_xpath(\"//*[@id='hinduMonth']/ul/li[\"+str(r)+\"]/div/div[\"+str(c)+\"]\").text\n",
    "        print(value)\n",
    "    print('\\n') "
   ]
  },
  {
   "cell_type": "code",
   "execution_count": 46,
   "metadata": {},
   "outputs": [
    {
     "name": "stdout",
     "output_type": "stream",
     "text": [
      "Inauspicious Timing\n",
      "Rahu Kalam\n",
      "17:12:15-18:38:47\n",
      "Yamghant Kalam\n",
      "12:52:41-14:19:12\n",
      "Gulika Kalam\n",
      "15:45:44-17:12:15\n",
      "Dur Muhurtam\n",
      "17:06:29-17:52:38\n"
     ]
    }
   ],
   "source": [
    "aus_head = driver.find_element_by_xpath('//*[@id=\"inauspicious\"]/h3').text\n",
    "print(aus_head)\n",
    "for r in range(1,5):\n",
    "    value = driver.find_element_by_xpath(\"//*[@id='inauspicious']/ul/li/div/div[\"+str(r)+\"]\").text\n",
    "    print(value)\n"
   ]
  },
  {
   "cell_type": "code",
   "execution_count": 48,
   "metadata": {},
   "outputs": [
    {
     "name": "stdout",
     "output_type": "stream",
     "text": [
      "Rahu Kalam\n"
     ]
    }
   ],
   "source": [
    "print(driver.find_element_by_xpath(\"//*[@id='inauspicious']/ul/li/div/div[1]/span[2]\").text)"
   ]
  },
  {
   "cell_type": "code",
   "execution_count": 49,
   "metadata": {},
   "outputs": [
    {
     "name": "stdout",
     "output_type": "stream",
     "text": [
      "17:12:15-18:38:47\n"
     ]
    }
   ],
   "source": [
    "print(driver.find_element_by_xpath(\"//*[@id='inauspicious']/ul/li/div/div[1]/p\").text)\n"
   ]
  }
 ],
 "metadata": {
  "kernelspec": {
   "display_name": "Python 3",
   "language": "python",
   "name": "python3"
  },
  "language_info": {
   "codemirror_mode": {
    "name": "ipython",
    "version": 3
   },
   "file_extension": ".py",
   "mimetype": "text/x-python",
   "name": "python",
   "nbconvert_exporter": "python",
   "pygments_lexer": "ipython3",
   "version": "3.7.4"
  }
 },
 "nbformat": 4,
 "nbformat_minor": 2
}
